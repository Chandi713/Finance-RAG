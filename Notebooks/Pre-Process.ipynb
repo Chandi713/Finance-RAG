{
 "cells": [
  {
   "cell_type": "markdown",
   "id": "6d2c0321-dfd2-473c-a92a-d0ad7d366f07",
   "metadata": {},
   "source": [
    "# Imports"
   ]
  },
  {
   "cell_type": "code",
   "execution_count": null,
   "id": "6c5a490e-8c8b-4cee-a528-8542fb99ee72",
   "metadata": {},
   "outputs": [],
   "source": [
    "from datasets import load_dataset\n",
    "import pandas as pd\n",
    "import re"
   ]
  },
  {
   "cell_type": "markdown",
   "id": "0af5c800-5c37-4435-b95c-95c89ec1c1c3",
   "metadata": {},
   "source": [
    "# Load and Preprocess"
   ]
  },
  {
   "cell_type": "code",
   "execution_count": null,
   "id": "703f2cb6-002f-441e-bb1b-a61263307c15",
   "metadata": {},
   "outputs": [],
   "source": [
    "ds = load_dataset(\"virattt/financial-qa-10K\")"
   ]
  },
  {
   "cell_type": "code",
   "execution_count": null,
   "id": "c842152b-944d-42dc-b25d-26d6b523f6db",
   "metadata": {},
   "outputs": [],
   "source": [
    "ds"
   ]
  },
  {
   "cell_type": "code",
   "execution_count": null,
   "id": "9f809b57-b6b8-4887-be9a-d7ab4a591ffb",
   "metadata": {},
   "outputs": [],
   "source": [
    "ds = ds[\"train\"].to_pandas()\n",
    "ds"
   ]
  },
  {
   "cell_type": "code",
   "execution_count": null,
   "id": "3f25e5a7-4ee4-4307-a657-eab9e1df52f8",
   "metadata": {},
   "outputs": [],
   "source": [
    "ds = ds.rename(columns={\n",
    "    \"question\": \"query\",\n",
    "    \"context\": \"corpus\"\n",
    "})\n"
   ]
  },
  {
   "cell_type": "code",
   "execution_count": null,
   "id": "40851cc8-c19f-45b4-a4ed-a99220b89e31",
   "metadata": {},
   "outputs": [],
   "source": [
    "df = pd.read_csv(\"TrainingData_V3.csv\")\n",
    "df"
   ]
  },
  {
   "cell_type": "code",
   "execution_count": null,
   "id": "00817b14-fd5e-471c-ba38-93f27759c04f",
   "metadata": {},
   "outputs": [],
   "source": [
    "df[\"corpus\"]"
   ]
  },
  {
   "cell_type": "code",
   "execution_count": null,
   "id": "83627609-09b7-45a1-b0b0-c33460fa5d21",
   "metadata": {},
   "outputs": [],
   "source": [
    "for idx, row in df.iterrows():\n",
    "    row[\"corpus\"] = re.sub(r\"(\\\\u[0-9A-Fa-f]{4})+\", \" \", row[\"corpus\"])"
   ]
  },
  {
   "cell_type": "code",
   "execution_count": null,
   "id": "31036737-4d64-464a-957b-41a2d2e31773",
   "metadata": {},
   "outputs": [],
   "source": [
    "subsets = df[\"subset\"].unique().tolist()\n",
    "eval_list=[]\n",
    "train_list=[]\n",
    "for subset in subsets:\n",
    "    eval_list.append(df.loc[df[\"subset\"]==subset][:15])\n",
    "    train_list.append(df.loc[df[\"subset\"]==subset][15:])"
   ]
  },
  {
   "cell_type": "code",
   "execution_count": null,
   "id": "5e7d8642-9410-4f6d-b046-0ceddeb1089b",
   "metadata": {},
   "outputs": [],
   "source": [
    "eval_df = eval_list[0]\n",
    "for i in range(1,len(eval_list)):\n",
    "    eval_df = pd.concat([eval_df,eval_list[i]])"
   ]
  },
  {
   "cell_type": "code",
   "execution_count": null,
   "id": "a4b0c073-4d21-4a6c-832a-fe391efb3780",
   "metadata": {},
   "outputs": [],
   "source": [
    "train_df = train_list[0]\n",
    "for i in range(1,len(train_list)):\n",
    "    train_df = pd.concat([train_df,train_list[i]])"
   ]
  },
  {
   "cell_type": "code",
   "execution_count": null,
   "id": "38314891-2293-4f27-82c9-0ae7313ce81b",
   "metadata": {},
   "outputs": [],
   "source": [
    "eval_df = eval_df[[\"query\", \"corpus\"]].copy()\n",
    "train_df = train_df[[\"query\", \"corpus\"]].copy()\n",
    "ds_new = ds[[\"query\", \"corpus\"]].copy()"
   ]
  },
  {
   "cell_type": "code",
   "execution_count": null,
   "id": "6c07c4a5-f917-484a-b065-aa4616d88dbf",
   "metadata": {},
   "outputs": [],
   "source": [
    "shuffled_df = ds_new.sample(frac=1).reset_index(drop=True)\n",
    "eval_df = pd.concat([eval_df, shuffled_df[:800]])\n",
    "train_df = pd.concat([train_df, shuffled_df[800:]])"
   ]
  },
  {
   "cell_type": "code",
   "execution_count": null,
   "id": "18559874-0f91-4be8-9e38-a4d9060fb10c",
   "metadata": {},
   "outputs": [],
   "source": [
    "train_df = train_df.sample(frac=1).reset_index(drop=True)\n",
    "eval_df = eval_df.sample(frac=1).reset_index(drop=True)\n",
    "\n",
    "train_df.dropna(how='all', inplace=True)\n",
    "eval_df.dropna(how='all', inplace=True)\n",
    "\n",
    "train_df.dropna(subset=['query'], inplace=True)\n",
    "eval_df.dropna(subset=['query'], inplace=True)\n",
    "\n",
    "train_df.dropna(subset=['corpus'], inplace=True)\n",
    "eval_df.dropna(subset=['corpus'], inplace=True)"
   ]
  },
  {
   "cell_type": "markdown",
   "id": "1d554b5c-28e3-4cd0-b833-8a8fc73b3e51",
   "metadata": {},
   "source": [
    "# Save"
   ]
  },
  {
   "cell_type": "code",
   "execution_count": null,
   "id": "7cbd7dd6-f086-4b3c-815e-a9b39626015b",
   "metadata": {},
   "outputs": [],
   "source": [
    "train_df.to_csv(\"train_df.csv\",errors=False, header=True, index=False)\n",
    "eval_df.to_csv(\"eval_df.csv\",errors=False, header=True, index=False)"
   ]
  },
  {
   "cell_type": "code",
   "execution_count": null,
   "id": "9771e17a-ef4a-4d66-8e51-946f61240b5d",
   "metadata": {},
   "outputs": [],
   "source": []
  }
 ],
 "metadata": {
  "kernelspec": {
   "display_name": "Capstone",
   "language": "python",
   "name": "capstone"
  },
  "language_info": {
   "codemirror_mode": {
    "name": "ipython",
    "version": 3
   },
   "file_extension": ".py",
   "mimetype": "text/x-python",
   "name": "python",
   "nbconvert_exporter": "python",
   "pygments_lexer": "ipython3",
   "version": "3.12.9"
  }
 },
 "nbformat": 4,
 "nbformat_minor": 5
}
