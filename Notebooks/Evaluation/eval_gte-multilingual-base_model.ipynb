{
 "cells": [
  {
   "cell_type": "markdown",
   "id": "bad1294c-ab05-4cb6-a289-5250dab08e4f",
   "metadata": {
    "jp-MarkdownHeadingCollapsed": true
   },
   "source": [
    "# Imports"
   ]
  },
  {
   "cell_type": "code",
   "execution_count": 8,
   "id": "90e0faeb-0269-44fb-aeea-8a8a4a30e09f",
   "metadata": {},
   "outputs": [],
   "source": [
    "import pandas as pd\n",
    "from datasets import load_dataset, Dataset\n",
    "from datasets import concatenate_datasets\n",
    "from sentence_transformers import SentenceTransformer, util\n",
    "from sentence_transformers.evaluation import InformationRetrievalEvaluator\n",
    "from sentence_transformers.util import cos_sim"
   ]
  },
  {
   "cell_type": "markdown",
   "id": "8514c38b-be52-487b-9593-baae68d63411",
   "metadata": {
    "jp-MarkdownHeadingCollapsed": true
   },
   "source": [
    "# Initialization"
   ]
  },
  {
   "cell_type": "code",
   "execution_count": 2,
   "id": "662a8f8a-a9ad-4305-bf3d-163b803e0ff2",
   "metadata": {},
   "outputs": [],
   "source": [
    "train_df = load_dataset(\"csv\", data_files=\"training_data.csv\")\n",
    "eval_df = load_dataset(\"csv\", data_files=\"eval_data.csv\")\n",
    "train_df = train_df.rename_column(\"query\", \"anchor\")\n",
    "train_df = train_df.rename_column(\"corpus\", \"positive\")\n",
    "eval_df = eval_df.rename_column(\"query\", \"anchor\")\n",
    "eval_df = eval_df.rename_column(\"corpus\", \"positive\")\n",
    "final_model_path = \"gte-finance-model\""
   ]
  },
  {
   "cell_type": "markdown",
   "id": "ad694755-ccd7-4e7f-9397-1bad29993137",
   "metadata": {
    "jp-MarkdownHeadingCollapsed": true
   },
   "source": [
    "# Process and Evaluate"
   ]
  },
  {
   "cell_type": "code",
   "execution_count": 3,
   "id": "07727b15-848c-4f14-8a00-b90be6efdf90",
   "metadata": {},
   "outputs": [],
   "source": [
    "corpus_dataset = concatenate_datasets([train_df['train'], eval_df['train']])\n",
    "# Convert the datasets to dictionaries\n",
    "corpus = dict(\n",
    "    zip(corpus_dataset[\"id\"], corpus_dataset[\"positive\"])\n",
    ")  # Our corpus (cid => document)\n",
    "queries = dict(\n",
    "    zip(eval_df['train'][\"id\"], eval_df['train'][\"anchor\"])\n",
    ")  # Our queries (qid => question)"
   ]
  },
  {
   "cell_type": "code",
   "execution_count": 4,
   "id": "5f3cf948-6ef2-4806-96b3-09882e145e4c",
   "metadata": {},
   "outputs": [],
   "source": [
    " # Create a mapping of relevant document (1 in our case) for each query\n",
    "relevant_docs = {}  # Query ID to relevant documents (qid => set([relevant_cids])\n",
    "for q_id in queries:\n",
    "    relevant_docs[q_id] = [q_id]"
   ]
  },
  {
   "cell_type": "code",
   "execution_count": 5,
   "id": "d508f51e-d42e-4a6c-af72-84dfcbd3ac82",
   "metadata": {},
   "outputs": [],
   "source": [
    "ir_evaluator = InformationRetrievalEvaluator(\n",
    "    queries=queries,\n",
    "    corpus=corpus,\n",
    "    relevant_docs=relevant_docs,\n",
    "    truncate_dim=2048,  # Truncate the embeddings to a certain dimension\n",
    "    score_functions={\"cosine\": cos_sim},\n",
    ")"
   ]
  },
  {
   "cell_type": "markdown",
   "id": "454b479e-0760-440d-b858-bfe95a26f29a",
   "metadata": {
    "jp-MarkdownHeadingCollapsed": true
   },
   "source": [
    "# Base Model Metrics"
   ]
  },
  {
   "cell_type": "code",
   "execution_count": 6,
   "id": "da2ef6dc-ad2f-45f2-9bd3-88b14e640ace",
   "metadata": {},
   "outputs": [
    {
     "name": "stderr",
     "output_type": "stream",
     "text": [
      "Some weights of the model checkpoint at Alibaba-NLP/gte-multilingual-base were not used when initializing NewModel: ['classifier.bias', 'classifier.weight']\n",
      "- This IS expected if you are initializing NewModel from the checkpoint of a model trained on another task or with another architecture (e.g. initializing a BertForSequenceClassification model from a BertForPreTraining model).\n",
      "- This IS NOT expected if you are initializing NewModel from the checkpoint of a model that you expect to be exactly identical (initializing a BertForSequenceClassification model from a BertForSequenceClassification model).\n"
     ]
    },
    {
     "data": {
      "text/plain": [
       "{'cosine_accuracy@1': 0.5535911602209945,\n",
       " 'cosine_accuracy@3': 0.6883977900552486,\n",
       " 'cosine_accuracy@5': 0.7359116022099448,\n",
       " 'cosine_accuracy@10': 0.7900552486187845,\n",
       " 'cosine_precision@1': 0.5535911602209945,\n",
       " 'cosine_precision@3': 0.2294659300184162,\n",
       " 'cosine_precision@5': 0.14718232044198895,\n",
       " 'cosine_precision@10': 0.07900552486187845,\n",
       " 'cosine_recall@1': 0.5535911602209945,\n",
       " 'cosine_recall@3': 0.6883977900552486,\n",
       " 'cosine_recall@5': 0.7359116022099448,\n",
       " 'cosine_recall@10': 0.7900552486187845,\n",
       " 'cosine_ndcg@10': 0.6706808418958197,\n",
       " 'cosine_mrr@10': 0.6325269665877401,\n",
       " 'cosine_map@100': 0.6386555675603985}"
      ]
     },
     "execution_count": 6,
     "metadata": {},
     "output_type": "execute_result"
    }
   ],
   "source": [
    "model = SentenceTransformer(model_name_or_path=\"Alibaba-NLP/gte-multilingual-base\", trust_remote_code=True)\n",
    "model.max_seq_length=512\n",
    "ir_evaluator(model)"
   ]
  },
  {
   "cell_type": "markdown",
   "id": "fcba7c09-0c21-47ed-9c39-942f45ebc868",
   "metadata": {
    "jp-MarkdownHeadingCollapsed": true
   },
   "source": [
    "# Fine-tuned Model Metrics"
   ]
  },
  {
   "cell_type": "code",
   "execution_count": 7,
   "id": "21797ec6-57c1-4646-8f20-9c4549e55ba1",
   "metadata": {},
   "outputs": [
    {
     "name": "stderr",
     "output_type": "stream",
     "text": [
      "Some weights of the model checkpoint at Alibaba-NLP/gte-multilingual-base were not used when initializing NewModel: ['classifier.bias', 'classifier.weight']\n",
      "- This IS expected if you are initializing NewModel from the checkpoint of a model trained on another task or with another architecture (e.g. initializing a BertForSequenceClassification model from a BertForPreTraining model).\n",
      "- This IS NOT expected if you are initializing NewModel from the checkpoint of a model that you expect to be exactly identical (initializing a BertForSequenceClassification model from a BertForSequenceClassification model).\n",
      "/opt/anaconda3/envs/Capstone/lib/python3.12/site-packages/bitsandbytes/cextension.py:34: UserWarning: The installed version of bitsandbytes was compiled without GPU support. 8-bit optimizers, 8-bit multiplication, and GPU quantization are unavailable.\n",
      "  warn(\"The installed version of bitsandbytes was compiled without GPU support. \"\n",
      "/opt/anaconda3/envs/Capstone/lib/python3.12/site-packages/peft/tuners/tuners_utils.py:167: UserWarning: Already found a `peft_config` attribute in the model. This will lead to having multiple adapters in the model. Make sure to know what you are doing!\n",
      "  warnings.warn(\n"
     ]
    },
    {
     "name": "stdout",
     "output_type": "stream",
     "text": [
      "'NoneType' object has no attribute 'cadam32bit_grad_fp32'\n"
     ]
    },
    {
     "data": {
      "text/plain": [
       "{'cosine_accuracy@1': 0.6397790055248619,\n",
       " 'cosine_accuracy@3': 0.7646408839779005,\n",
       " 'cosine_accuracy@5': 0.8066298342541437,\n",
       " 'cosine_accuracy@10': 0.850828729281768,\n",
       " 'cosine_precision@1': 0.6397790055248619,\n",
       " 'cosine_precision@3': 0.25488029465930023,\n",
       " 'cosine_precision@5': 0.1613259668508287,\n",
       " 'cosine_precision@10': 0.08508287292817679,\n",
       " 'cosine_recall@1': 0.6397790055248619,\n",
       " 'cosine_recall@3': 0.7646408839779005,\n",
       " 'cosine_recall@5': 0.8066298342541437,\n",
       " 'cosine_recall@10': 0.850828729281768,\n",
       " 'cosine_ndcg@10': 0.7448964960962077,\n",
       " 'cosine_mrr@10': 0.7109396650004388,\n",
       " 'cosine_map@100': 0.7156103926622395}"
      ]
     },
     "execution_count": 7,
     "metadata": {},
     "output_type": "execute_result"
    }
   ],
   "source": [
    "finetuned_model = SentenceTransformer(final_model_path, trust_remote_code=True)\n",
    "ir_evaluator(finetuned_model)"
   ]
  },
  {
   "cell_type": "code",
   "execution_count": 21,
   "id": "74d36f99-fe64-444d-8772-5201443d45ee",
   "metadata": {},
   "outputs": [],
   "source": [
    "data_base = {'cosine_accuracy@10': 0.7900552486187845,\n",
    " 'cosine_precision@1': 0.5535911602209945,\n",
    " 'cosine_recall@10': 0.7900552486187845,\n",
    " 'cosine_ndcg@10': 0.6706808418958197,\n",
    " 'cosine_mrr@10': 0.6325269665877401,\n",
    " 'cosine_map@100': 0.6386555675603985}\n",
    "\n",
    "\n",
    "data_finetuned = {'cosine_accuracy@10': 0.850828729281768,\n",
    " 'cosine_precision@1': 0.6397790055248619,\n",
    " 'cosine_recall@10': 0.850828729281768,\n",
    " 'cosine_ndcg@10': 0.7448964960962077,\n",
    " 'cosine_mrr@10': 0.7109396650004388,\n",
    " 'cosine_map@100': 0.7156103926622395}"
   ]
  },
  {
   "cell_type": "code",
   "execution_count": 38,
   "id": "f09a0ebb-7ef7-408c-b440-b059dc184474",
   "metadata": {},
   "outputs": [],
   "source": [
    "metric_name =  data_base.keys()\n",
    "score = data_base.values()\n",
    "score_new = data_finetuned.values()\n",
    "data_json = {\n",
    "    'Metrics': metric_name,\n",
    "    'Scores_Base_Model': score,\n",
    "    'Score_Fine-tuned_Model': score_new,\n",
    "    'Performance Gain': [f\"{round((score_f-score_b)*100,2)}%\" for score_f,score_b in zip(score_new,score)]\n",
    "}\n",
    "df_metrics = pd.DataFrame(data=data_json)"
   ]
  },
  {
   "cell_type": "code",
   "execution_count": 39,
   "id": "4ffbfc42-4b7e-4359-b199-7f443aca8b5e",
   "metadata": {},
   "outputs": [
    {
     "data": {
      "text/html": [
       "<div>\n",
       "<style scoped>\n",
       "    .dataframe tbody tr th:only-of-type {\n",
       "        vertical-align: middle;\n",
       "    }\n",
       "\n",
       "    .dataframe tbody tr th {\n",
       "        vertical-align: top;\n",
       "    }\n",
       "\n",
       "    .dataframe thead th {\n",
       "        text-align: right;\n",
       "    }\n",
       "</style>\n",
       "<table border=\"1\" class=\"dataframe\">\n",
       "  <thead>\n",
       "    <tr style=\"text-align: right;\">\n",
       "      <th></th>\n",
       "      <th>Metrics</th>\n",
       "      <th>Scores_Base_Model</th>\n",
       "      <th>Score_Fine-tuned_Model</th>\n",
       "      <th>Performance Gain</th>\n",
       "    </tr>\n",
       "  </thead>\n",
       "  <tbody>\n",
       "    <tr>\n",
       "      <th>0</th>\n",
       "      <td>cosine_accuracy@10</td>\n",
       "      <td>0.790055</td>\n",
       "      <td>0.850829</td>\n",
       "      <td>6.08%</td>\n",
       "    </tr>\n",
       "    <tr>\n",
       "      <th>1</th>\n",
       "      <td>cosine_precision@1</td>\n",
       "      <td>0.553591</td>\n",
       "      <td>0.639779</td>\n",
       "      <td>8.62%</td>\n",
       "    </tr>\n",
       "    <tr>\n",
       "      <th>2</th>\n",
       "      <td>cosine_recall@10</td>\n",
       "      <td>0.790055</td>\n",
       "      <td>0.850829</td>\n",
       "      <td>6.08%</td>\n",
       "    </tr>\n",
       "    <tr>\n",
       "      <th>3</th>\n",
       "      <td>cosine_ndcg@10</td>\n",
       "      <td>0.670681</td>\n",
       "      <td>0.744896</td>\n",
       "      <td>7.42%</td>\n",
       "    </tr>\n",
       "    <tr>\n",
       "      <th>4</th>\n",
       "      <td>cosine_mrr@10</td>\n",
       "      <td>0.632527</td>\n",
       "      <td>0.710940</td>\n",
       "      <td>7.84%</td>\n",
       "    </tr>\n",
       "    <tr>\n",
       "      <th>5</th>\n",
       "      <td>cosine_map@100</td>\n",
       "      <td>0.638656</td>\n",
       "      <td>0.715610</td>\n",
       "      <td>7.7%</td>\n",
       "    </tr>\n",
       "  </tbody>\n",
       "</table>\n",
       "</div>"
      ],
      "text/plain": [
       "              Metrics  Scores_Base_Model  Score_Fine-tuned_Model  \\\n",
       "0  cosine_accuracy@10           0.790055                0.850829   \n",
       "1  cosine_precision@1           0.553591                0.639779   \n",
       "2    cosine_recall@10           0.790055                0.850829   \n",
       "3      cosine_ndcg@10           0.670681                0.744896   \n",
       "4       cosine_mrr@10           0.632527                0.710940   \n",
       "5      cosine_map@100           0.638656                0.715610   \n",
       "\n",
       "  Performance Gain  \n",
       "0            6.08%  \n",
       "1            8.62%  \n",
       "2            6.08%  \n",
       "3            7.42%  \n",
       "4            7.84%  \n",
       "5             7.7%  "
      ]
     },
     "execution_count": 39,
     "metadata": {},
     "output_type": "execute_result"
    }
   ],
   "source": [
    "df_metrics"
   ]
  },
  {
   "cell_type": "code",
   "execution_count": 40,
   "id": "0fbb796f-0a51-491c-9f86-ab9bdedbf21e",
   "metadata": {},
   "outputs": [],
   "source": [
    "df_metrics.to_csv(\"results_gte_model.csv\", errors=False, index=False)"
   ]
  },
  {
   "cell_type": "code",
   "execution_count": null,
   "id": "80fdc06f-5994-4765-949d-67c06c28ffda",
   "metadata": {},
   "outputs": [],
   "source": []
  }
 ],
 "metadata": {
  "kernelspec": {
   "display_name": "Capstone",
   "language": "python",
   "name": "capstone"
  },
  "language_info": {
   "codemirror_mode": {
    "name": "ipython",
    "version": 3
   },
   "file_extension": ".py",
   "mimetype": "text/x-python",
   "name": "python",
   "nbconvert_exporter": "python",
   "pygments_lexer": "ipython3",
   "version": "3.12.9"
  }
 },
 "nbformat": 4,
 "nbformat_minor": 5
}
