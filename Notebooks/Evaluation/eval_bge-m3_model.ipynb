{
 "cells": [
  {
   "cell_type": "markdown",
   "id": "e0eec005-ac24-4e0e-af4f-ca0b208b7c62",
   "metadata": {},
   "source": [
    "# Imports"
   ]
  },
  {
   "cell_type": "code",
   "execution_count": 11,
   "id": "acbc0f58-bf4a-45e5-8126-126affe41aa3",
   "metadata": {},
   "outputs": [],
   "source": [
    "import pandas as pd\n",
    "from datasets import load_dataset, Dataset\n",
    "from datasets import concatenate_datasets\n",
    "from sentence_transformers import SentenceTransformer, util\n",
    "from sentence_transformers.evaluation import InformationRetrievalEvaluator\n",
    "from sentence_transformers.util import cos_sim"
   ]
  },
  {
   "cell_type": "markdown",
   "id": "ee7e4d3b-649e-4176-b39b-95148b128ab7",
   "metadata": {},
   "source": [
    "# Initialization"
   ]
  },
  {
   "cell_type": "code",
   "execution_count": 2,
   "id": "5452def9-4ce5-4f33-b5d0-f77cb81f8d83",
   "metadata": {},
   "outputs": [],
   "source": [
    "train_df = load_dataset(\"csv\", data_files=\"training_data.csv\")\n",
    "eval_df = load_dataset(\"csv\", data_files=\"eval_data.csv\")\n",
    "train_df = train_df.rename_column(\"query\", \"anchor\")\n",
    "train_df = train_df.rename_column(\"corpus\", \"positive\")\n",
    "eval_df = eval_df.rename_column(\"query\", \"anchor\")\n",
    "eval_df = eval_df.rename_column(\"corpus\", \"positive\")\n",
    "final_model_path = \"bge-m3-finance-model\""
   ]
  },
  {
   "cell_type": "markdown",
   "id": "00621e43-1ab2-435c-914e-f511fab93cb7",
   "metadata": {},
   "source": [
    "# Process and Evaluate"
   ]
  },
  {
   "cell_type": "code",
   "execution_count": 3,
   "id": "1262e5b2-cc4c-482e-a0ac-cd202f3f9727",
   "metadata": {},
   "outputs": [],
   "source": [
    "corpus_dataset = concatenate_datasets([train_df['train'], eval_df['train']])\n",
    "# Convert the datasets to dictionaries\n",
    "corpus = dict(\n",
    "    zip(corpus_dataset[\"id\"], corpus_dataset[\"positive\"])\n",
    ")  # Our corpus (cid => document)\n",
    "queries = dict(\n",
    "    zip(eval_df['train'][\"id\"], eval_df['train'][\"anchor\"])\n",
    ")  # Our queries (qid => question)"
   ]
  },
  {
   "cell_type": "code",
   "execution_count": 4,
   "id": "0e1291a6-4fa9-4c3c-9220-c0833952322e",
   "metadata": {},
   "outputs": [],
   "source": [
    " # Create a mapping of relevant document (1 in our case) for each query\n",
    "relevant_docs = {}  # Query ID to relevant documents (qid => set([relevant_cids])\n",
    "for q_id in queries:\n",
    "    relevant_docs[q_id] = [q_id]"
   ]
  },
  {
   "cell_type": "code",
   "execution_count": 5,
   "id": "0eb17741-ddce-4819-b445-94abab945848",
   "metadata": {},
   "outputs": [],
   "source": [
    "ir_evaluator = InformationRetrievalEvaluator(\n",
    "    queries=queries,\n",
    "    corpus=corpus,\n",
    "    relevant_docs=relevant_docs,\n",
    "    truncate_dim=2048,  # Truncate the embeddings to a certain dimension\n",
    "    score_functions={\"cosine\": cos_sim},\n",
    ")"
   ]
  },
  {
   "cell_type": "markdown",
   "id": "1e22c339-1898-49a9-b8ae-de7be9368de0",
   "metadata": {},
   "source": [
    "# Base Model Metrics"
   ]
  },
  {
   "cell_type": "code",
   "execution_count": 6,
   "id": "3f134d7c-a60f-4b39-9b84-4cf64cf49ce7",
   "metadata": {},
   "outputs": [
    {
     "data": {
      "text/plain": [
       "{'cosine_accuracy@1': 0.6088397790055249,\n",
       " 'cosine_accuracy@3': 0.7226519337016575,\n",
       " 'cosine_accuracy@5': 0.7613259668508288,\n",
       " 'cosine_accuracy@10': 0.8276243093922652,\n",
       " 'cosine_precision@1': 0.6088397790055249,\n",
       " 'cosine_precision@3': 0.2408839779005525,\n",
       " 'cosine_precision@5': 0.15226519337016572,\n",
       " 'cosine_precision@10': 0.08276243093922653,\n",
       " 'cosine_recall@1': 0.6088397790055249,\n",
       " 'cosine_recall@3': 0.7226519337016575,\n",
       " 'cosine_recall@5': 0.7613259668508288,\n",
       " 'cosine_recall@10': 0.8276243093922652,\n",
       " 'cosine_ndcg@10': 0.7116877051559333,\n",
       " 'cosine_mrr@10': 0.6753253529772868,\n",
       " 'cosine_map@100': 0.6800862227735942}"
      ]
     },
     "execution_count": 6,
     "metadata": {},
     "output_type": "execute_result"
    }
   ],
   "source": [
    "model = SentenceTransformer(model_name_or_path=\"BAAI/bge-m3\", trust_remote_code=True)\n",
    "model.max_seq_length=256\n",
    "ir_evaluator(model)"
   ]
  },
  {
   "cell_type": "markdown",
   "id": "36487291-3cd2-475f-88bf-1cdc682003b1",
   "metadata": {},
   "source": [
    "# Fine-tuned Model Metrics"
   ]
  },
  {
   "cell_type": "code",
   "execution_count": 7,
   "id": "e54c2b79-3f9e-48f1-a9c1-bf45ac30dee1",
   "metadata": {},
   "outputs": [
    {
     "name": "stderr",
     "output_type": "stream",
     "text": [
      "/opt/anaconda3/envs/Capstone/lib/python3.12/site-packages/bitsandbytes/cextension.py:34: UserWarning: The installed version of bitsandbytes was compiled without GPU support. 8-bit optimizers, 8-bit multiplication, and GPU quantization are unavailable.\n",
      "  warn(\"The installed version of bitsandbytes was compiled without GPU support. \"\n",
      "/opt/anaconda3/envs/Capstone/lib/python3.12/site-packages/peft/tuners/tuners_utils.py:167: UserWarning: Already found a `peft_config` attribute in the model. This will lead to having multiple adapters in the model. Make sure to know what you are doing!\n",
      "  warnings.warn(\n"
     ]
    },
    {
     "name": "stdout",
     "output_type": "stream",
     "text": [
      "'NoneType' object has no attribute 'cadam32bit_grad_fp32'\n"
     ]
    },
    {
     "data": {
      "text/plain": [
       "{'cosine_accuracy@1': 0.6629834254143646,\n",
       " 'cosine_accuracy@3': 0.7790055248618785,\n",
       " 'cosine_accuracy@5': 0.8176795580110497,\n",
       " 'cosine_accuracy@10': 0.8651933701657458,\n",
       " 'cosine_precision@1': 0.6629834254143646,\n",
       " 'cosine_precision@3': 0.2596685082872928,\n",
       " 'cosine_precision@5': 0.16353591160220995,\n",
       " 'cosine_precision@10': 0.08651933701657458,\n",
       " 'cosine_recall@1': 0.6629834254143646,\n",
       " 'cosine_recall@3': 0.7790055248618785,\n",
       " 'cosine_recall@5': 0.8176795580110497,\n",
       " 'cosine_recall@10': 0.8651933701657458,\n",
       " 'cosine_ndcg@10': 0.7618216813501208,\n",
       " 'cosine_mrr@10': 0.7290296413224592,\n",
       " 'cosine_map@100': 0.7336044058479377}"
      ]
     },
     "execution_count": 7,
     "metadata": {},
     "output_type": "execute_result"
    }
   ],
   "source": [
    "finetuned_model = SentenceTransformer(final_model_path, trust_remote_code=True)\n",
    "ir_evaluator(finetuned_model)"
   ]
  },
  {
   "cell_type": "code",
   "execution_count": 16,
   "id": "0862a5d8-c846-42db-9108-d3095ff99ca2",
   "metadata": {},
   "outputs": [],
   "source": [
    "data_base = {'cosine_accuracy@10': 0.8276243093922652,\n",
    " 'cosine_precision@1': 0.6088397790055249,\n",
    " 'cosine_recall@10': 0.8276243093922652,\n",
    " 'cosine_ndcg@10': 0.7116877051559333,\n",
    " 'cosine_mrr@10': 0.6753253529772868,\n",
    " 'cosine_map@100': 0.6800862227735942}\n",
    "\n",
    "\n",
    "data_finetuned = {'cosine_accuracy@10': 0.8651933701657458,\n",
    " 'cosine_precision@1': 0.6629834254143646,\n",
    " 'cosine_recall@10': 0.8651933701657458,\n",
    " 'cosine_ndcg@10': 0.7618216813501208,\n",
    " 'cosine_mrr@10': 0.7290296413224592,\n",
    " 'cosine_map@100': 0.7336044058479377}"
   ]
  },
  {
   "cell_type": "code",
   "execution_count": 17,
   "id": "76aa6c82-0d38-492c-8042-a08a445ce71c",
   "metadata": {},
   "outputs": [],
   "source": [
    "metric_name =  data_base.keys()\n",
    "score = data_base.values()\n",
    "score_new = data_finetuned.values()\n",
    "data_json = {\n",
    "    'Metrics': metric_name,\n",
    "    'Scores_Base_Model': score,\n",
    "    'Score_Fine-tuned_Model': score_new,\n",
    "    'Performance Gain': [f\"{round((score_f-score_b)*100,2)}%\" for score_f,score_b in zip(score_new,score)]\n",
    "}\n",
    "df_metrics = pd.DataFrame(data=data_json)"
   ]
  },
  {
   "cell_type": "code",
   "execution_count": 18,
   "id": "1cefe17b-c533-455c-af77-66633b1702c5",
   "metadata": {},
   "outputs": [
    {
     "data": {
      "text/html": [
       "<div>\n",
       "<style scoped>\n",
       "    .dataframe tbody tr th:only-of-type {\n",
       "        vertical-align: middle;\n",
       "    }\n",
       "\n",
       "    .dataframe tbody tr th {\n",
       "        vertical-align: top;\n",
       "    }\n",
       "\n",
       "    .dataframe thead th {\n",
       "        text-align: right;\n",
       "    }\n",
       "</style>\n",
       "<table border=\"1\" class=\"dataframe\">\n",
       "  <thead>\n",
       "    <tr style=\"text-align: right;\">\n",
       "      <th></th>\n",
       "      <th>Metrics</th>\n",
       "      <th>Scores_Base_Model</th>\n",
       "      <th>Score_Fine-tuned_Model</th>\n",
       "      <th>Performance Gain</th>\n",
       "    </tr>\n",
       "  </thead>\n",
       "  <tbody>\n",
       "    <tr>\n",
       "      <th>0</th>\n",
       "      <td>cosine_accuracy@10</td>\n",
       "      <td>0.827624</td>\n",
       "      <td>0.865193</td>\n",
       "      <td>3.76%</td>\n",
       "    </tr>\n",
       "    <tr>\n",
       "      <th>1</th>\n",
       "      <td>cosine_precision@1</td>\n",
       "      <td>0.608840</td>\n",
       "      <td>0.662983</td>\n",
       "      <td>5.41%</td>\n",
       "    </tr>\n",
       "    <tr>\n",
       "      <th>2</th>\n",
       "      <td>cosine_recall@10</td>\n",
       "      <td>0.827624</td>\n",
       "      <td>0.865193</td>\n",
       "      <td>3.76%</td>\n",
       "    </tr>\n",
       "    <tr>\n",
       "      <th>3</th>\n",
       "      <td>cosine_ndcg@10</td>\n",
       "      <td>0.711688</td>\n",
       "      <td>0.761822</td>\n",
       "      <td>5.01%</td>\n",
       "    </tr>\n",
       "    <tr>\n",
       "      <th>4</th>\n",
       "      <td>cosine_mrr@10</td>\n",
       "      <td>0.675325</td>\n",
       "      <td>0.729030</td>\n",
       "      <td>5.37%</td>\n",
       "    </tr>\n",
       "    <tr>\n",
       "      <th>5</th>\n",
       "      <td>cosine_map@100</td>\n",
       "      <td>0.680086</td>\n",
       "      <td>0.733604</td>\n",
       "      <td>5.35%</td>\n",
       "    </tr>\n",
       "  </tbody>\n",
       "</table>\n",
       "</div>"
      ],
      "text/plain": [
       "              Metrics  Scores_Base_Model  Score_Fine-tuned_Model  \\\n",
       "0  cosine_accuracy@10           0.827624                0.865193   \n",
       "1  cosine_precision@1           0.608840                0.662983   \n",
       "2    cosine_recall@10           0.827624                0.865193   \n",
       "3      cosine_ndcg@10           0.711688                0.761822   \n",
       "4       cosine_mrr@10           0.675325                0.729030   \n",
       "5      cosine_map@100           0.680086                0.733604   \n",
       "\n",
       "  Performance Gain  \n",
       "0            3.76%  \n",
       "1            5.41%  \n",
       "2            3.76%  \n",
       "3            5.01%  \n",
       "4            5.37%  \n",
       "5            5.35%  "
      ]
     },
     "execution_count": 18,
     "metadata": {},
     "output_type": "execute_result"
    }
   ],
   "source": [
    "df_metrics"
   ]
  },
  {
   "cell_type": "code",
   "execution_count": 19,
   "id": "cd17ad6b-e460-4d17-874f-9788a8f2cb61",
   "metadata": {},
   "outputs": [],
   "source": [
    "df_metrics.to_csv(\"results_bge_model.csv\", errors=False, index=False)"
   ]
  },
  {
   "cell_type": "code",
   "execution_count": null,
   "id": "46863245-56db-497e-83cd-e9493b4097fe",
   "metadata": {},
   "outputs": [],
   "source": []
  }
 ],
 "metadata": {
  "kernelspec": {
   "display_name": "Capstone",
   "language": "python",
   "name": "capstone"
  },
  "language_info": {
   "codemirror_mode": {
    "name": "ipython",
    "version": 3
   },
   "file_extension": ".py",
   "mimetype": "text/x-python",
   "name": "python",
   "nbconvert_exporter": "python",
   "pygments_lexer": "ipython3",
   "version": "3.12.9"
  }
 },
 "nbformat": 4,
 "nbformat_minor": 5
}
